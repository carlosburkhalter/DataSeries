{
 "cells": [
  {
   "cell_type": "markdown",
   "metadata": {},
   "source": [
    "# Exercise 4 "
   ]
  },
  {
   "cell_type": "code",
   "execution_count": 9,
   "metadata": {},
   "outputs": [
    {
     "data": {
      "text/plain": [
       "{2: 0.027693,\n",
       " 3: 0.055122,\n",
       " 4: 0.083365,\n",
       " 5: 0.111636,\n",
       " 6: 0.138796,\n",
       " 7: 0.16643,\n",
       " 8: 0.139199,\n",
       " 9: 0.110888,\n",
       " 10: 0.08387,\n",
       " 11: 0.055605,\n",
       " 12: 0.027396}"
      ]
     },
     "execution_count": 9,
     "metadata": {},
     "output_type": "execute_result"
    }
   ],
   "source": [
    "import numpy as np \n",
    "import random \n",
    "\n",
    "x=0\n",
    "n=1000000\n",
    "newlist=[]\n",
    "while x<n:\n",
    "    d1=random.randint(1, 6)\n",
    "    d2=random.randint(1, 6)\n",
    "    s=float(d1+d2)\n",
    "    newlist.append(s)\n",
    "    x=x+1\n",
    "\n",
    "newlist2=[]\n",
    "for i in range(2,13):\n",
    "    z=newlist.count(i)/n\n",
    "    newlist2.append(z)\n",
    "\n",
    "#print(newlist2)\n",
    "\n",
    "values=newlist2\n",
    "keys=[2,3,4,5,6,7,8,9,10,11,12]\n",
    "dict(zip(keys, values))\n"
   ]
  },
  {
   "cell_type": "markdown",
   "metadata": {},
   "source": [
    "Theoritical values are really close and can be found here: http://statweb.stanford.edu/~susan/courses/s60/split/node65.html\n",
    "\n"
   ]
  },
  {
   "cell_type": "markdown",
   "metadata": {},
   "source": [
    "# ajouter la différence avec la théorie "
   ]
  },
  {
   "cell_type": "code",
   "execution_count": null,
   "metadata": {},
   "outputs": [],
   "source": []
  }
 ],
 "metadata": {
  "kernelspec": {
   "display_name": "Python 3",
   "language": "python",
   "name": "python3"
  },
  "language_info": {
   "codemirror_mode": {
    "name": "ipython",
    "version": 3
   },
   "file_extension": ".py",
   "mimetype": "text/x-python",
   "name": "python",
   "nbconvert_exporter": "python",
   "pygments_lexer": "ipython3",
   "version": "3.7.1"
  }
 },
 "nbformat": 4,
 "nbformat_minor": 2
}
