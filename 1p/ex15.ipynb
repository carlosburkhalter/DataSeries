{
 "cells": [
  {
   "cell_type": "code",
   "execution_count": 1,
   "metadata": {},
   "outputs": [
    {
     "name": "stdout",
     "output_type": "stream",
     "text": [
      "ABCDEFGHIJKLMNOPQRSTUVWXYZabcdefghijklmnopqrstuvwxyz\n",
      "AaBbCcDdEeFfGgHhIiJjKkLlMmNnOoPpQqRrSsTtUuVvWwXxYyZz\n",
      "| A a B b C c D d E e |\n",
      "| F f G g H h I i J j |\n",
      "| K k L l M m N n O o |\n",
      "| P p Q q R r S s T t |\n",
      "| U u V v W w X x Y y |\n",
      "| Z z |\n",
      "[('a : ', 'apple')]\n",
      "['b']\n",
      "['c']\n",
      "['d']\n",
      "['e']\n",
      "['f']\n",
      "[('g :', 'grape')]\n",
      "['h']\n",
      "['i']\n",
      "['j']\n",
      "['k']\n",
      "[('l :', 'lemon')]\n",
      "['m']\n",
      "['n']\n",
      "[('o :', 'olive')]\n",
      "['p']\n",
      "['q']\n",
      "['r']\n",
      "['s']\n",
      "['t']\n",
      "['u']\n",
      "['v']\n",
      "['w']\n",
      "['x']\n",
      "['y']\n",
      "['z']\n",
      "apple begins with a, grape begins with g, lemon begins with l, olive begins with o \n"
     ]
    }
   ],
   "source": [
    "\n",
    "# Exercice 15\n",
    "\n",
    "import string\n",
    "\n",
    "A = string.ascii_uppercase\n",
    "\n",
    "c = \"\"\n",
    "\n",
    "a = A.lower()\n",
    "d = A+a\n",
    "print(d)\n",
    "for i in range(0,len(A)):\n",
    "    c += A[i]+a[i]\n",
    "print(c)\n",
    "\n",
    "for i in range(0,len(d),10):\n",
    "    t = \"|\"+ c[i:i+10] +\"|\"\n",
    "    t = \" \".join(t)\n",
    "    print(t)\n",
    "    \n",
    "d = list(a)\n",
    "v=[]\n",
    "\n",
    "for char in d :\n",
    "    v += ([char])\n",
    "\n",
    "v[0] = \"a : \",\"apple\"\n",
    "v[6] = \"g :\", \"grape\"\n",
    "v[11] = \"l :\", \"lemon\"\n",
    "v[14] = \"o :\", \"olive\"\n",
    "\n",
    "for char in v:\n",
    "    print([char[:]])\n",
    "\n",
    "\n",
    "\n",
    "    \n",
    "\n",
    "print(\"apple begins with a, grape begins with g, lemon begins with l, olive begins with o \")    \n",
    "\n",
    "\n",
    "\n",
    "\n",
    "\n"
   ]
  },
  {
   "cell_type": "code",
   "execution_count": null,
   "metadata": {},
   "outputs": [],
   "source": []
  }
 ],
 "metadata": {
  "kernelspec": {
   "display_name": "Python 3",
   "language": "python",
   "name": "python3"
  },
  "language_info": {
   "codemirror_mode": {
    "name": "ipython",
    "version": 3
   },
   "file_extension": ".py",
   "mimetype": "text/x-python",
   "name": "python",
   "nbconvert_exporter": "python",
   "pygments_lexer": "ipython3",
   "version": "3.6.8"
  }
 },
 "nbformat": 4,
 "nbformat_minor": 2
}
