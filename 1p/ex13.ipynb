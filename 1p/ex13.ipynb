{
 "cells": [
  {
   "cell_type": "code",
   "execution_count": 7,
   "metadata": {},
   "outputs": [
    {
     "name": "stdout",
     "output_type": "stream",
     "text": [
      "55 - 70\n"
     ]
    }
   ],
   "source": [
    "import pandas as pd\n",
    "import numpy as np\n",
    "\n",
    "filename = \"human_evolution.txt\"\n",
    "humanss = pd.read_csv(filename, sep=r\"[ ]{2,}\", \\\n",
    "                   header = None, names = [\"species\",\"era\", \"height\", \"mass\", \"brain volume\"], engine =\"python\",\\\n",
    "                   skiprows=3, skipfooter=3)\n",
    "#0: 'H. habilis',\n",
    "#1: 'H. erectus',\n",
    "#2: 'H. ergaster',\n",
    "#3: 'H. heidelbergensis',\n",
    "#4: 'H. neanderthalensis',\n",
    "#5: 'H. sapiens sapiens',\n",
    "#6: 'H. floresiensis'},\n",
    "humans = humanss.to_dict()\n",
    "\n",
    "print(humans[\"mass\"][4])\n"
   ]
  },
  {
   "cell_type": "code",
   "execution_count": null,
   "metadata": {},
   "outputs": [],
   "source": []
  }
 ],
 "metadata": {
  "kernelspec": {
   "display_name": "Python 3",
   "language": "python",
   "name": "python3"
  },
  "language_info": {
   "codemirror_mode": {
    "name": "ipython",
    "version": 3
   },
   "file_extension": ".py",
   "mimetype": "text/x-python",
   "name": "python",
   "nbconvert_exporter": "python",
   "pygments_lexer": "ipython3",
   "version": "3.6.8"
  }
 },
 "nbformat": 4,
 "nbformat_minor": 2
}
