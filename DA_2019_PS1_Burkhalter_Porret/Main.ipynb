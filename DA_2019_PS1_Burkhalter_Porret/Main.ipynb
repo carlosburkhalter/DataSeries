{
 "cells": [
  {
   "cell_type": "markdown",
   "metadata": {},
   "source": [
    "## Exercise 1"
   ]
  },
  {
   "cell_type": "code",
   "execution_count": null,
   "metadata": {},
   "outputs": [],
   "source": [
    "\n",
    "%reset -f\n",
    "\n",
    "from math import sqrt, pi\n",
    "import random\n",
    "\n",
    "in_circle = 0\n",
    "in_square = 1000\n",
    "for i in range(0,in_square):\n",
    "    x = random.random()\n",
    "    y = random.random()\n",
    "    if x**2 + y**2 <= 1:\n",
    "        in_circle += 1\n",
    "pi_estimated = 4*in_circle/in_square\n",
    "\n",
    "print(float(round(pi_estimated,5)))\n",
    "\n",
    "print(\"Difference with the real value of pi : \" + str(round(pi-pi_estimated,5)))\n"
   ]
  },
  {
   "cell_type": "markdown",
   "metadata": {},
   "source": [
    "## Exercise 2"
   ]
  },
  {
   "cell_type": "code",
   "execution_count": null,
   "metadata": {},
   "outputs": [],
   "source": [
    "\n",
    "%reset -f\n",
    "\n",
    "import random\n",
    "\n",
    "print(\"Enter the number of simulation :\")\n",
    "\n",
    "x = int(input())\n",
    "\n",
    "head = 0\n",
    "for coin in range(0,x):\n",
    "    r = random.random()\n",
    "    if r <= 0.5:\n",
    "        print(\"Head\")\n",
    "        head += 1\n",
    "    else :\n",
    "        print(\"Tail\")\n",
    "    \n",
    "print(\"Number of 'Head' : \" + str(head))\n"
   ]
  },
  {
   "cell_type": "markdown",
   "metadata": {},
   "source": [
    "## Exercise 3"
   ]
  },
  {
   "cell_type": "code",
   "execution_count": null,
   "metadata": {},
   "outputs": [],
   "source": [
    "\n",
    "%reset -f\n",
    "\n",
    "print(\"Ex 3.1\\n\")\n",
    "import random\n",
    "thrown = 200\n",
    "number_6 = 0\n",
    "for dice in range(0,thrown):\n",
    "    x = random.randint(1,6)\n",
    "    if x == 6 :\n",
    "        number_6 += 1\n",
    "        print(x)\n",
    "print(\"Number of 6 : \" + str(number_6))\n",
    "proba = str(float((number_6/thrown)*100))\n",
    "\n",
    "print(\"Probability of getting a 6: \" + proba + \"%\")\n",
    "print(\"Real probability = 16.67% = 1/6\\n\")\n",
    "import random\n",
    "\n",
    "\n",
    "#2\n",
    "simulation = 10000\n",
    "four_6_in_a_row = 0\n",
    "for dice in range(0,simulation):\n",
    "    w = random.randint(1,6)\n",
    "    x = random.randint(1,6)\n",
    "    y = random.randint(1,6)\n",
    "    z = random.randint(1,6)\n",
    "    r = w+x+y+z\n",
    "    if r == 24 :\n",
    "        four_6_in_a_row += 1\n",
    "print(\"Ex 3.2\")\n",
    "print(\"Number of simulation : \" + str(simulation) + \"\\nFour 6 in a row : \" + str(four_6_in_a_row) )\n",
    "proba = (four_6_in_a_row/simulation)*100\n",
    "proba = round(proba,4)\n",
    "print(\"Proba 4 times 6 = \" + (str(proba))+ \"%\")\n",
    "realp = ((1/6)**4)*100\n",
    "realp = round(realp,4)\n",
    "print(\"Real proba 4 times 6 = \" + str(realp)+\"% = (1/6)^4\")\n",
    "\n",
    "\n",
    "\n",
    "#3\n",
    "simulation = 10000\n",
    "k = 0\n",
    "g = 0\n",
    "for i in range(0,simulation):\n",
    "    x = random.randint(6,6)\n",
    "    y = random.randint(6,6)\n",
    "    z = random.randint(6,6)\n",
    "    t = x+y+z\n",
    "    if t ==18:\n",
    "        k +=  1\n",
    "        last = random.randint(1,6)\n",
    "        if last == 6:\n",
    "            g += 1\n",
    "proba = float((g/simulation)*100)\n",
    "proba = round(proba,4)\n",
    "print(\"\\nEx 3.3\")\n",
    "print(\"three times 6 in a row :  \"+ str(k))\n",
    "print(\"number of 6 after having three times 6  : \"+str(g))\n",
    "print(\"probability of getting a 6 after three 6 : \" + str(proba) + \"%\")\n",
    "print(\"Real probability : 16.67%\")\n",
    "print(\"\\nEx 3.4\")\n",
    "print(\"The probability is still 1/6 = 16.67% due to the independance between each simulation. \")\n"
   ]
  },
  {
   "cell_type": "markdown",
   "metadata": {},
   "source": [
    "## Exercise 4"
   ]
  },
  {
   "cell_type": "code",
   "execution_count": null,
   "metadata": {},
   "outputs": [],
   "source": [
    "\n",
    "%reset -f\n",
    "\n",
    "import random\n",
    "import numpy as np\n",
    "\n",
    "simulation = 100\n",
    "\n",
    "print(\"Sum / Frequence\")\n",
    "\n",
    "dic = {\n",
    "    2 : 0,\n",
    "    3 : 0,\n",
    "    4 : 0,\n",
    "    5 : 0,\n",
    "    6 : 0,\n",
    "    7 : 0,\n",
    "    8 : 0,\n",
    "    9 : 0,\n",
    "    10: 0,\n",
    "    11: 0,\n",
    "    12: 0,\n",
    "}\n",
    "for i in range(0,simulation):\n",
    "    x = random.randint(1,6)\n",
    "    y = random.randint(1,6)\n",
    "    z = x + y\n",
    "    for x in dic :\n",
    "        t = x == z\n",
    "        if t == True:\n",
    "            dic[z] += 1          \n",
    "for x,y in dic.items():\n",
    "    print(x,y)\n",
    "t = []\n",
    "for y in dic:\n",
    "    p = dic[y]/simulation\n",
    "    p = float(p)\n",
    "    p = round(p,4)\n",
    "    p = str(p)\n",
    "    t.append(p)\n",
    "t = np.array(t)\n",
    "\n",
    "print(\"Probability observed : (in %) \")\n",
    "print(t)\n",
    "\n",
    "print(\"\\nReal probability : (in %) \")\n",
    "M = np.array([1,2,3,4,5,6,5,4,3,2,1])\n",
    "a = np.array(M/36)\n",
    "a = np.round(a,4)\n",
    "print(a)\n",
    "\n",
    "    \n"
   ]
  },
  {
   "cell_type": "markdown",
   "metadata": {},
   "source": [
    "## Exercise 5"
   ]
  },
  {
   "cell_type": "markdown",
   "metadata": {},
   "source": [
    "- Part 1 : "
   ]
  },
  {
   "cell_type": "code",
   "execution_count": null,
   "metadata": {},
   "outputs": [],
   "source": [
    "\n",
    "%reset -f\n",
    "\n",
    "\n",
    "import numpy as np\n",
    "import matplotlib.pyplot as plt\n",
    "\n",
    "filename = \"gauge-Copy1.dat\"\n",
    "eta = np.genfromtxt(filename, delimiter =\",\", dtype = float)\n",
    "\n",
    "\n",
    "h = 1/300\n",
    "t = []\n",
    "hi = 0\n",
    "for i in range(0,len(eta)):\n",
    "    hi += h\n",
    "    t.append(hi)\n",
    "\n",
    "plt.scatter(t, eta, s = 0.5)\n",
    "plt.autoscale(enable=True, axis='both')\n",
    "plt.title(\"Eta versus Time\")\n",
    "plt.xlabel(\"Time\")\n",
    "plt.ylabel(\"Eta\")\n",
    "plt.tick_params(axis='y',which='Major', labelsize=1)\n",
    "plt.show()\n",
    "\n",
    "\n",
    "\n"
   ]
  },
  {
   "cell_type": "markdown",
   "metadata": {},
   "source": [
    "- Part 2 : "
   ]
  },
  {
   "cell_type": "code",
   "execution_count": null,
   "metadata": {},
   "outputs": [],
   "source": [
    "\n",
    "%reset -f\n",
    "\n",
    "\n",
    "import numpy as np\n",
    "import matplotlib.pyplot as plt\n",
    "\n",
    "filename = \"gauge.dat\"\n",
    "eta = np.genfromtxt(filename, delimiter =\",\", dtype = float)\n",
    "\n",
    "\n",
    "h = 1/300\n",
    "t = []\n",
    "hi = 0\n",
    "for i in range(0,len(eta)):\n",
    "    hi += h\n",
    "    t.append(hi)\n",
    "\n",
    "vi = []\n",
    "ai = []\n",
    "for i in range(0,(len(eta)-2)):\n",
    "    v0 = str((float(eta[i+2])-2*float(eta[i+1])+float(eta[i])/(2*h)))\n",
    "    a0 = str((float(eta[i+2])-2*float(eta[i+1])+float(eta[i])/(h**2)))\n",
    "    vi.append(v0)\n",
    "    ai.append(a0)\n",
    "    \n",
    "vi = list(map(float, vi))\n",
    "ai = list(map(float, ai))\n",
    "\n",
    "    \n",
    "\n",
    "\n",
    "plt.xlabel('Time')\n",
    "plt.ylabel('vi')\n",
    "plt.title(\"vi versus Time\")\n",
    "plt.plot(t[0:-2], vi,\"y\")\n",
    "print(\"The current limits for the axes are:\")        \n",
    "print(plt.axis())\n",
    "plt.show()\n",
    "\n",
    "plt.xlabel('Time')\n",
    "plt.ylabel('ai')\n",
    "plt.title(\"Eta versus Time\")\n",
    "plt.plot(t[0:-2], ai,\"r\")\n",
    "print(\"The current limits for the axes are:\")        \n",
    "print(plt.axis())\n",
    "plt.show()\n",
    "\n",
    "\n"
   ]
  },
  {
   "cell_type": "markdown",
   "metadata": {},
   "source": [
    "## Exercise 6"
   ]
  },
  {
   "cell_type": "markdown",
   "metadata": {},
   "source": [
    "- 6.1"
   ]
  },
  {
   "cell_type": "code",
   "execution_count": null,
   "metadata": {},
   "outputs": [],
   "source": [
    "\n",
    "reset -f\n",
    "\n",
    "import math\n",
    "\n",
    "A=1\n",
    "T=math.pi*2\n",
    "tlist=[]\n",
    "rlist=[]\n",
    "for i in range (201):\n",
    "    t=i*T/40\n",
    "    tlist.append(t)\n",
    "    \n",
    "for i in range(201):\n",
    "    r=A*math.sin((2*math.pi*tlist[i])/T)\n",
    "    rlist.append(r)\n",
    "    \n",
    "#print(rlist,tlist)\n",
    "\n",
    "%matplotlib inline \n",
    "%config InlineBackend.figure_format= 'svg'\n",
    "import numpy as np \n",
    "import matplotlib.pyplot as plt \n",
    "\n",
    "plt.plot(tlist,rlist)\n",
    "plt.ylabel('$\\eta$')\n",
    "plt.xlabel(\"$t_i$\")\n",
    "plt.show()\n",
    "len(tlist)\n",
    "\n"
   ]
  },
  {
   "cell_type": "markdown",
   "metadata": {},
   "source": [
    "- 6.2"
   ]
  },
  {
   "cell_type": "code",
   "execution_count": null,
   "metadata": {},
   "outputs": [],
   "source": [
    "\n",
    "arrayEi=[]\n",
    "Ei=np.random.normal(0,0.04*A,200)\n",
    "arrayEi.append(Ei)\n",
    "plt.plot(Ei)\n",
    "plt.show()\n",
    "#print(arrayEi)\n",
    "isinstance(arrayEi,list)\n"
   ]
  },
  {
   "cell_type": "markdown",
   "metadata": {},
   "source": [
    "- 6.3"
   ]
  },
  {
   "cell_type": "code",
   "execution_count": null,
   "metadata": {},
   "outputs": [],
   "source": [
    "\n",
    "detabar=[]\n",
    "for i in range (0, len(rlist)-2):\n",
    "    e=(rlist[i+1]-rlist[i-1])/2*(1/300)\n",
    "    detabar.append(e)\n",
    "plt.plot(detabar)\n",
    "\n",
    "plt.show()\n"
   ]
  },
  {
   "cell_type": "markdown",
   "metadata": {},
   "source": [
    "- 6.4"
   ]
  },
  {
   "cell_type": "code",
   "execution_count": null,
   "metadata": {},
   "outputs": [],
   "source": [
    "\n",
    "dE=[]\n",
    "for i in range (0, len(Ei)-1):\n",
    "    d=(Ei[i+1]-Ei[i-1])/(2*(1/300))\n",
    "    dE.append(d)\n",
    "import statistics \n",
    "mean=statistics.mean(dE)\n",
    "stdev=statistics.stdev(dE)\n",
    "print('mean= '+ str(mean),'standard deviation= ' + str(stdev))\n",
    "\n",
    "plt.plot(dE)\n",
    "plt.show()\n",
    "\n",
    "len(dE)\n"
   ]
  },
  {
   "cell_type": "markdown",
   "metadata": {},
   "source": [
    "- 6.5"
   ]
  },
  {
   "cell_type": "code",
   "execution_count": null,
   "metadata": {},
   "outputs": [],
   "source": [
    "\n",
    "y=[detabar[i]+dE[i] for i in range(len(detabar))]\n",
    "\n",
    "plt.plot(detabar, y, 'b.')\n",
    "plt.show()\n"
   ]
  },
  {
   "cell_type": "markdown",
   "metadata": {},
   "source": [
    "- 6.6"
   ]
  },
  {
   "cell_type": "code",
   "execution_count": null,
   "metadata": {},
   "outputs": [],
   "source": [
    "\n",
    "d2etabar=[]\n",
    "for i in range (0,len(rlist)-2):\n",
    "    d2=((rlist[i+1]-(2*rlist[i])+rlist[i-1]))/((1/300)**2)\n",
    "    d2etabar.append(d2)\n",
    "\n",
    "d2E=[]\n",
    "for i in range (0,len(Ei)-1):\n",
    "    E2=((Ei[i+1]-2*Ei[i]+Ei[i-1]))/((1/300)**2)\n",
    "    d2E.append(E2)\n",
    "\n",
    "y2=[d2etabar[i]+d2E[i] for i in range(len(d2etabar))]\n",
    "\n",
    "plt.plot(d2etabar, y2,'b.')\n",
    "plt.show()\n",
    "\n",
    "import statistics \n",
    "mean2=statistics.mean(d2E)\n",
    "stdev2=statistics.stdev(d2E)\n",
    "print('mean= '+ str(mean),'standard deviation= ' + str(stdev))\n",
    "\n"
   ]
  },
  {
   "cell_type": "markdown",
   "metadata": {},
   "source": [
    "## Exercise 7"
   ]
  },
  {
   "cell_type": "markdown",
   "metadata": {},
   "source": [
    "- 7.1"
   ]
  },
  {
   "cell_type": "markdown",
   "metadata": {},
   "source": [
    "Category : Nominal <br/>\n",
    "Prize: Numerical <br/>\n",
    "kWh/Jahr: Numerical <br/>\n",
    "Energy Efficiency: Ordinal <br/>\n",
    "Weight: Numerical <br/>\n",
    "Brand: Nominal <br/>\n",
    "Sales: Numerical <br/>\n"
   ]
  },
  {
   "cell_type": "markdown",
   "metadata": {},
   "source": [
    "- 7.2"
   ]
  },
  {
   "cell_type": "code",
   "execution_count": null,
   "metadata": {},
   "outputs": [],
   "source": [
    "import numpy as np\n",
    "import pandas as pd\n",
    "\n",
    "\n",
    "data = pd.DataFrame({\n",
    "    \"category\":[\"Freezer\",\"Washing Machine\",\"Freezer\", \"Washing Machine\", \"tableware dryer\",\"tableware dryer\"],\n",
    "    \"Energy Efficiency\":[\"A\",\"B\",\"C\",\"E\",\"D\",\"D\"],\n",
    "    \"Brand\":[\"Mühle\",\"Boss\",\"Nerd\",\"Prolet\",\"Boss\",\"Mühle\"]})\n",
    "\n",
    "a = data.drop(\"category\", axis = 1)\n",
    "b = data.drop(\"Energy Efficiency\", axis = 1)\n",
    "c = data.drop(\"Brand\", axis = 1)\n",
    "\n",
    "\"\"\"\n",
    "from sklearn.linear_model import LinearRegression\n",
    "reg = LinearRegression().fit(a, b)\n",
    "\"\"\""
   ]
  },
  {
   "cell_type": "markdown",
   "metadata": {},
   "source": [
    "## Exercise 8"
   ]
  },
  {
   "cell_type": "code",
   "execution_count": null,
   "metadata": {},
   "outputs": [],
   "source": [
    "\n",
    "%reset -f\n",
    "\n",
    "from sklearn.datasets import load_boston\n",
    "from sklearn.linear_model import LinearRegression\n",
    "import numpy as np\n",
    "import matplotlib.pyplot as plt\n",
    "\n",
    "import pandas as pd\n",
    "\n",
    "Boston = load_boston()\n",
    "bos = pd.DataFrame(Boston.data)\n",
    "bos.columns = Boston.feature_names\n",
    "bos['PRICE'] = Boston.target\n",
    "print(bos.head())\n"
   ]
  },
  {
   "cell_type": "markdown",
   "metadata": {},
   "source": [
    "- Computing estimates"
   ]
  },
  {
   "cell_type": "code",
   "execution_count": null,
   "metadata": {},
   "outputs": [],
   "source": [
    "\n",
    "X = bos.drop('PRICE', axis = 1)\n",
    "Y = bos['PRICE']\n",
    "\n",
    "lm = LinearRegression()\n",
    "lm.fit(X,Y)\n",
    "\n",
    "d = {'variables':X.columns,'estimates':lm.coef_}\n",
    "df = pd.DataFrame(data=d)\n",
    "df\n"
   ]
  },
  {
   "cell_type": "markdown",
   "metadata": {},
   "source": [
    "- Comparing model with real prices "
   ]
  },
  {
   "cell_type": "code",
   "execution_count": null,
   "metadata": {},
   "outputs": [],
   "source": [
    "\n",
    "Y_Pred=lm.predict(X)\n",
    "plt.scatter(Y,Y_Pred)\n",
    "plt.title('Predicted vs real')\n",
    "plt.xlabel('Prices')\n",
    "plt.ylabel('predicted prices')\n"
   ]
  },
  {
   "cell_type": "markdown",
   "metadata": {},
   "source": [
    "- MSE ans R-square for model "
   ]
  },
  {
   "cell_type": "code",
   "execution_count": null,
   "metadata": {},
   "outputs": [],
   "source": [
    "\n",
    "from sklearn import metrics  \n",
    "\n",
    "print('Mean Squared Error:', metrics.mean_squared_error(Y, Y_Pred))  \n",
    "print('Root Mean Squared Error:', np.sqrt(metrics.mean_squared_error(Y, Y_Pred)))\n"
   ]
  },
  {
   "cell_type": "markdown",
   "metadata": {},
   "source": [
    "- Linear regression with CRIM variable"
   ]
  },
  {
   "cell_type": "code",
   "execution_count": null,
   "metadata": {},
   "outputs": [],
   "source": [
    "\n",
    "%matplotlib inline \n",
    "%config InlineBackend.figure_format= 'svg'\n",
    "import numpy as np \n",
    "import matplotlib.pyplot as plt \n",
    "import seaborn as sns\n",
    "fit = np.polyfit(bos.CRIM,Y,1)\n",
    "fit_fn = np.poly1d(fit) \n",
    "plt.scatter(bos.CRIM,Y, s=1)\n",
    "plt.plot(bos.CRIM,Y,'b.', bos.CRIM, fit_fn(bos.CRIM), '-r')\n",
    "plt.xlim(0, 40)\n",
    "plt.ylim(0, 40)\n",
    "plt.title('per capita crime rate by town influence on Prices')\n",
    "plt.xlabel('per capita crime rate by town')\n",
    "plt.ylabel('Prices')\n",
    "plt.show()\n",
    "\n"
   ]
  },
  {
   "cell_type": "markdown",
   "metadata": {},
   "source": [
    "- Linear Regression with AGE variable"
   ]
  },
  {
   "cell_type": "code",
   "execution_count": null,
   "metadata": {},
   "outputs": [],
   "source": [
    "\n",
    "%matplotlib inline \n",
    "%config InlineBackend.figure_format= 'svg'\n",
    "import numpy as np \n",
    "import matplotlib.pyplot as plt \n",
    "import seaborn as sns\n",
    "fit = np.polyfit(bos.AGE,Y,1)\n",
    "fit_fn = np.poly1d(fit) \n",
    "\n",
    "plt.scatter(bos.AGE,bos.PRICE, s=2)\n",
    "plt.plot(bos.AGE,Y,'b.', bos.AGE, fit_fn(bos.AGE), '-r')\n",
    "plt.xlim(0, 100)\n",
    "plt.ylim(0, 50)\n",
    "plt.title('proportion of owner-occupied units built prior to 1940 influence on Prices')\n",
    "plt.xlabel('proportion of owner-occupied units built prior to 1940')\n",
    "plt.ylabel('Prices')\n",
    "plt.show()\n"
   ]
  },
  {
   "cell_type": "markdown",
   "metadata": {},
   "source": [
    "- Computing MSE for CRIM and NOX"
   ]
  },
  {
   "cell_type": "code",
   "execution_count": null,
   "metadata": {},
   "outputs": [],
   "source": [
    "\n",
    "lm=LinearRegression()\n",
    "lm.fit(X[['CRIM']],bos.PRICE)\n",
    "\n",
    "mseCRIM=np.mean((bos.PRICE-lm.predict(X[['CRIM']]))**2)\n",
    "print(mseCRIM)\n",
    "mseNOX=np.mean((bos.PRICE-lm.predict(X[['NOX']]))**2)\n",
    "print(mseNOX)\n"
   ]
  },
  {
   "cell_type": "markdown",
   "metadata": {},
   "source": [
    "- Computing R.Square "
   ]
  },
  {
   "cell_type": "code",
   "execution_count": null,
   "metadata": {},
   "outputs": [],
   "source": [
    "\n",
    "from sklearn.metrics import r2_score\n",
    "print('R_Square: ', r2_score(Y, Y_Pred))\n"
   ]
  },
  {
   "cell_type": "markdown",
   "metadata": {},
   "source": [
    "- Regression using high order polynomials var: NOX"
   ]
  },
  {
   "cell_type": "code",
   "execution_count": null,
   "metadata": {},
   "outputs": [],
   "source": [
    "\n",
    "import operator\n",
    "\n",
    "import numpy as np\n",
    "import matplotlib.pyplot as plt\n",
    "\n",
    "from sklearn.linear_model import LinearRegression\n",
    "from sklearn.metrics import mean_squared_error, r2_score\n",
    "from sklearn.preprocessing import PolynomialFeatures\n",
    "\n",
    "x =bos.NOX\n",
    "y = Y\n",
    "\n",
    "# transforming the data to include another axis\n",
    "x = x[:, np.newaxis]\n",
    "y = y[:, np.newaxis]\n",
    "\n",
    "polynomial_features= PolynomialFeatures(degree=3)\n",
    "x_poly = polynomial_features.fit_transform(x)\n",
    "\n",
    "model = LinearRegression()\n",
    "model.fit(x_poly, y)\n",
    "y_poly_pred = model.predict(x_poly)\n",
    "\n",
    "rmse = np.sqrt(mean_squared_error(y,y_poly_pred))\n",
    "r2 = r2_score(y,y_poly_pred)\n",
    "print('RMSE: ',rmse)\n",
    "print('RSQUARE: ',r2)\n",
    "\n",
    "plt.scatter(x, y, s=10)\n",
    "# sort the values of x before line plot\n",
    "sort_axis = operator.itemgetter(0)\n",
    "sorted_zip = sorted(zip(x,y_poly_pred), key=sort_axis)\n",
    "x, y_poly_pred = zip(*sorted_zip)\n",
    "plt.plot(x, y_poly_pred, color='m')\n",
    "plt.title('nitric oxides concentration influences on Prices')\n",
    "plt.xlabel('nitric oxides concentration')\n",
    "plt.ylabel('Prices')\n",
    "plt.show()\n"
   ]
  },
  {
   "cell_type": "markdown",
   "metadata": {},
   "source": [
    "- Linear Regression by ourself"
   ]
  },
  {
   "cell_type": "code",
   "execution_count": null,
   "metadata": {},
   "outputs": [],
   "source": [
    "\n",
    "from numpy.linalg import inv\n",
    "Xt=X.transpose()\n",
    "a=np.matmul(Xt,X)\n",
    "b=inv(a)\n",
    "c=np.matmul(b,Xt)\n",
    "w=np.matmul(c,Y)\n",
    "\n",
    "Y_Pred2=w[0]*X.CRIM+w[1]*X.ZN+w[2]*X.INDUS+w[3]*X.CHAS+w[4]*X.NOX+w[5]*X.RM+w[6]*X.AGE+w[7]*X.DIS+w[8]*X.RAD+w[9]*X.TAX+w[10]*X.PTRATIO+w[11]*X.B+w[12]*X.LSTAT\n",
    "\n",
    "plt.scatter(Y,Y_Pred2)\n",
    "plt.title('Predicted \"by hand\" vs real')\n",
    "plt.xlabel('Prices')\n",
    "plt.ylabel('predicted \"by hand\" prices')\n",
    "from sklearn import metrics  \n",
    "\n",
    "print('Mean Squared Error:', metrics.mean_squared_error(Y, Y_Pred2))  \n",
    "print('Root Mean Squared Error:', np.sqrt(metrics.mean_squared_error(Y, Y_Pred2)))\n",
    "from sklearn.metrics import r2_score\n",
    "print('R_Square: ', r2_score(Y, Y_Pred2))\n"
   ]
  },
  {
   "cell_type": "markdown",
   "metadata": {},
   "source": [
    "We see that the model is similar but the manual way seems to give less precise results as R^2 is lower. "
   ]
  },
  {
   "cell_type": "markdown",
   "metadata": {},
   "source": [
    "## Exercise 9"
   ]
  },
  {
   "cell_type": "code",
   "execution_count": null,
   "metadata": {},
   "outputs": [],
   "source": [
    "\n",
    "import numpy as np\n",
    "\n",
    "from scipy.optimize import minimize\n",
    "\n",
    "def Objective(x):\n",
    "    return x[0]*x[3]*(x[0]+x[1]+x[2])+x[2]\n",
    "    \n",
    "def Inequality_constraint(x):\n",
    "    return x[0]*x[1]*x[2]*x[3]-25.0\n",
    "    \n",
    "def Equality_constraint(x):\n",
    "    total = 40.0\n",
    "    for i in range(4):\n",
    "        total =total - x[i]**2\n",
    "    return total\n",
    "\n",
    "Initial_guess = [1,5,5,1]\n",
    "x0 = Initial_guess\n",
    "\n",
    "b = (1.0,5.0)\n",
    "bounds = (b, b, b, b)\n",
    "Ineq = {'type': 'ineq', 'fun': Inequality_constraint} \n",
    "Eq = {'type': 'eq', 'fun': Equality_constraint}\n",
    "cons = ([Ineq,Eq])\n",
    "solution = minimize(Objective,x0,method='SLSQP',\\\n",
    "                    bounds=bounds,constraints=cons)\n",
    "print(\"Inital guess :\" + str(x0)+\"\\n\")\n",
    "\n",
    "print(\"solutions : \" + str(solution)) \n",
    "    \n"
   ]
  }
 ],
 "metadata": {
  "kernelspec": {
   "display_name": "Python 3",
   "language": "python",
   "name": "python3"
  },
  "language_info": {
   "codemirror_mode": {
    "name": "ipython",
    "version": 3
   },
   "file_extension": ".py",
   "mimetype": "text/x-python",
   "name": "python",
   "nbconvert_exporter": "python",
   "pygments_lexer": "ipython3",
   "version": "3.6.8"
  }
 },
 "nbformat": 4,
 "nbformat_minor": 2
}
