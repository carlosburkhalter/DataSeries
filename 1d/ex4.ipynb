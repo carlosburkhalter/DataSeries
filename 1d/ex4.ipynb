{
 "cells": [
  {
   "cell_type": "code",
   "execution_count": 15,
   "metadata": {},
   "outputs": [
    {
     "name": "stdout",
     "output_type": "stream",
     "text": [
      "Sum / Frequence\n",
      "2 0\n",
      "3 0\n",
      "4 1\n",
      "5 4\n",
      "6 1\n",
      "7 2\n",
      "8 1\n",
      "9 2\n",
      "10 1\n",
      "11 0\n",
      "12 2\n",
      "Probability observed : (in %) \n",
      "['0.0' '0.0' '0.0714' '0.2857' '0.0714' '0.1429' '0.0714' '0.1429'\n",
      " '0.0714' '0.0' '0.1429']\n",
      "Real probability : (in %) \n",
      "[0.0278 0.0556 0.0833 0.1111 0.1389 0.1667 0.1389 0.1111 0.0833 0.0556\n",
      " 0.0278]\n"
     ]
    }
   ],
   "source": [
    "#Exercise 4\n",
    "import random\n",
    "import numpy as np\n",
    "\n",
    "simulation = 14\n",
    "\n",
    "print(\"Sum / Frequence\")\n",
    "\n",
    "dic = {\n",
    "    2 : 0,\n",
    "    3 : 0,\n",
    "    4 : 0,\n",
    "    5 : 0,\n",
    "    6 : 0,\n",
    "    7 : 0,\n",
    "    8 : 0,\n",
    "    9 : 0,\n",
    "    10: 0,\n",
    "    11: 0,\n",
    "    12: 0,\n",
    "}\n",
    "for i in range(0,simulation):\n",
    "    x = random.randint(1,6)\n",
    "    y = random.randint(1,6)\n",
    "    z = x + y\n",
    "    for x in dic :\n",
    "        t = x == z\n",
    "        if t == True:\n",
    "            dic[z] += 1          \n",
    "for x,y in dic.items():\n",
    "    print(x,y)\n",
    "t = []\n",
    "for y in dic:\n",
    "    p = dic[y]/simulation\n",
    "    p = float(p)\n",
    "    p = round(p,4)\n",
    "    p = str(p)\n",
    "    t.append(p)\n",
    "t = np.array(t)\n",
    "\n",
    "print(\"Probability observed : (in %) \")\n",
    "print(t)\n",
    "\n",
    "print(\"Real probability : (in %) \")\n",
    "M = np.array([1,2,3,4,5,6,5,4,3,2,1])\n",
    "a = np.array(M/36)\n",
    "a = np.round(a,4)\n",
    "print(a)\n",
    "\n",
    "    \n"
   ]
  },
  {
   "cell_type": "code",
   "execution_count": null,
   "metadata": {},
   "outputs": [],
   "source": []
  }
 ],
 "metadata": {
  "kernelspec": {
   "display_name": "Python 3",
   "language": "python",
   "name": "python3"
  },
  "language_info": {
   "codemirror_mode": {
    "name": "ipython",
    "version": 3
   },
   "file_extension": ".py",
   "mimetype": "text/x-python",
   "name": "python",
   "nbconvert_exporter": "python",
   "pygments_lexer": "ipython3",
   "version": "3.6.8"
  }
 },
 "nbformat": 4,
 "nbformat_minor": 2
}
