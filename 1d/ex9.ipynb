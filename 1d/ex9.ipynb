{
 "cells": [
  {
   "cell_type": "code",
   "execution_count": 23,
   "metadata": {},
   "outputs": [
    {
     "name": "stdout",
     "output_type": "stream",
     "text": [
      "Inital guess :[1, 5, 5, 1]\n",
      "\n",
      "solutions :      fun: 17.01401724563517\n",
      "     jac: array([14.57227015,  1.37940764,  2.37940764,  9.56415057])\n",
      " message: 'Optimization terminated successfully.'\n",
      "    nfev: 30\n",
      "     nit: 5\n",
      "    njev: 5\n",
      "  status: 0\n",
      " success: True\n",
      "       x: array([1.        , 4.7429961 , 3.82115462, 1.37940765])\n"
     ]
    }
   ],
   "source": [
    "import numpy as np\n",
    "\n",
    "from scipy.optimize import minimize\n",
    "\n",
    "def Objective(x):\n",
    "    return x[0]*x[3]*(x[0]+x[1]+x[2])+x[2]\n",
    "    \n",
    "def Inequality_constraint(x):\n",
    "    return x[0]*x[1]*x[2]*x[3]-25.0\n",
    "    \n",
    "def Equality_constraint(x):\n",
    "    total = 40.0\n",
    "    for i in range(4):\n",
    "        total =total - x[i]**2\n",
    "    return total\n",
    "\n",
    "Initial_guess = [1,5,5,1]\n",
    "x0 = Initial_guess\n",
    "\n",
    "b = (1.0,5.0)\n",
    "bounds = (b, b, b, b)\n",
    "Ineq = {'type': 'ineq', 'fun': Inequality_constraint} \n",
    "Eq = {'type': 'eq', 'fun': Equality_constraint}\n",
    "cons = ([Ineq,Eq])\n",
    "solution = minimize(Objective,x0,method='SLSQP',\\\n",
    "                    bounds=bounds,constraints=cons)\n",
    "print(\"Inital guess :\" + str(x0)+\"\\n\")\n",
    "\n",
    "print(\"solutions : \" + str(solution)) \n",
    "    \n"
   ]
  },
  {
   "cell_type": "code",
   "execution_count": null,
   "metadata": {},
   "outputs": [],
   "source": []
  }
 ],
 "metadata": {
  "kernelspec": {
   "display_name": "Python 3",
   "language": "python",
   "name": "python3"
  },
  "language_info": {
   "codemirror_mode": {
    "name": "ipython",
    "version": 3
   },
   "file_extension": ".py",
   "mimetype": "text/x-python",
   "name": "python",
   "nbconvert_exporter": "python",
   "pygments_lexer": "ipython3",
   "version": "3.6.8"
  }
 },
 "nbformat": 4,
 "nbformat_minor": 2
}
