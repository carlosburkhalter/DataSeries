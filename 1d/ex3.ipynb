{
 "cells": [
  {
   "cell_type": "code",
   "execution_count": 1,
   "metadata": {},
   "outputs": [
    {
     "name": "stdout",
     "output_type": "stream",
     "text": [
      "Ex 3.1\n",
      "6\n",
      "6\n",
      "6\n",
      "6\n",
      "6\n",
      "5\n",
      "Probability of getting a 6: 25.0%\n",
      "Real probability = 16.67%\n",
      "Ex 3.2\n",
      "Number of simulation : 10000\n",
      "Four 6 in a row : 9\n",
      "Proba 4 times 6 = 0.09%\n",
      "Real proba 4 times 6 = 0.0772%\n",
      "Ex 3.3\n",
      "three times 6 in a row :  10000\n",
      "number of 6 after having three times 6  : 1630\n",
      "probability of getting a 6 after three 6 : 16.3%\n",
      "Real probability : 16.67%\n"
     ]
    }
   ],
   "source": [
    "# Exercise 3\n",
    "#1\n",
    "print(\"Ex 3.1\")\n",
    "import random\n",
    "thrown = 20\n",
    "number_6 = 0\n",
    "for dice in range(0,thrown):\n",
    "    x = random.randint(1,6)\n",
    "    if x == 6 :\n",
    "        number_6 += 1\n",
    "        print(x)\n",
    "print(number_6)\n",
    "proba = str(float((number_6/thrown)*100))\n",
    "\n",
    "print(\"Probability of getting a 6: \" + proba + \"%\")\n",
    "print(\"Real probability = 16.67%\")\n",
    "import random\n",
    "\n",
    "simulation = 10000\n",
    "four_6_in_a_row = 0\n",
    "for dice in range(0,simulation):\n",
    "    w = random.randint(1,6)\n",
    "    x = random.randint(1,6)\n",
    "    y = random.randint(1,6)\n",
    "    z = random.randint(1,6)\n",
    "    r = w+x+y+z\n",
    "    if r == 24 :\n",
    "        four_6_in_a_row += 1\n",
    "print(\"Ex 3.2\")\n",
    "print(\"Number of simulation : \" + str(simulation) + \"\\nFour 6 in a row : \" + str(four_6_in_a_row) )\n",
    "proba = (four_6_in_a_row/simulation)*100\n",
    "proba = round(proba,4)\n",
    "print(\"Proba 4 times 6 = \" + (str(proba))+ \"%\")\n",
    "realp = ((1/6)**4)*100\n",
    "realp = round(realp,4)\n",
    "print(\"Real proba 4 times 6 = \" + str(realp)+\"%\")\n",
    "\n",
    "\n",
    "\n",
    "#3\n",
    "simulation = 10000\n",
    "k = 0\n",
    "g = 0\n",
    "for i in range(0,simulation):\n",
    "    x = random.randint(6,6)\n",
    "    y = random.randint(6,6)\n",
    "    z = random.randint(6,6)\n",
    "    t = x+y+z\n",
    "    if t ==18:\n",
    "        k +=  1\n",
    "        last = random.randint(1,6)\n",
    "        if last == 6:\n",
    "            g += 1\n",
    "proba = float((g/simulation)*100)\n",
    "proba = round(proba,4)\n",
    "print(\"Ex 3.3\")\n",
    "print(\"three times 6 in a row :  \"+ str(k))\n",
    "print(\"number of 6 after having three times 6  : \"+str(g))\n",
    "print(\"probability of getting a 6 after three 6 : \" + str(proba) + \"%\")\n",
    "print(\"Real probability : 16.67%\")\n",
    "print(\"Ex 3.4\")\n",
    "print(\"The probability is still 1/6 = 16.67% due to the independance between each simulation. \")"
   ]
  },
  {
   "cell_type": "code",
   "execution_count": null,
   "metadata": {},
   "outputs": [],
   "source": []
  },
  {
   "cell_type": "code",
   "execution_count": null,
   "metadata": {},
   "outputs": [],
   "source": []
  },
  {
   "cell_type": "code",
   "execution_count": null,
   "metadata": {},
   "outputs": [],
   "source": []
  }
 ],
 "metadata": {
  "kernelspec": {
   "display_name": "Python 3",
   "language": "python",
   "name": "python3"
  },
  "language_info": {
   "codemirror_mode": {
    "name": "ipython",
    "version": 3
   },
   "file_extension": ".py",
   "mimetype": "text/x-python",
   "name": "python",
   "nbconvert_exporter": "python",
   "pygments_lexer": "ipython3",
   "version": "3.6.8"
  }
 },
 "nbformat": 4,
 "nbformat_minor": 2
}
