{
 "cells": [
  {
   "cell_type": "markdown",
   "metadata": {},
   "source": [
    "# Problem set 1 - Programming "
   ]
  },
  {
   "cell_type": "markdown",
   "metadata": {},
   "source": [
    "## Exercise 1"
   ]
  },
  {
   "cell_type": "code",
   "execution_count": null,
   "metadata": {},
   "outputs": [],
   "source": [
    "\n",
    "%reset -f\n",
    "\n",
    "import math\n",
    "\n",
    "x = float(input(\"Please enter a number (x) : \"))\n",
    "y = float(input(\"Please enter a second number (y) : \"))\n",
    "print(\"x power y = \" + str(x**y))\n",
    "print(\"log (base 2) of x \" + str(math.log2(x)))\n"
   ]
  },
  {
   "cell_type": "markdown",
   "metadata": {},
   "source": [
    "## Exercise 2 "
   ]
  },
  {
   "cell_type": "code",
   "execution_count": null,
   "metadata": {},
   "outputs": [],
   "source": [
    "\n",
    "%reset -f\n",
    "\n",
    "x= input(\"Length in meter(s): \")\n",
    "cm = float(x)*100\n",
    "inch = cm / 2.54\n",
    "feet = inch/12\n",
    "yard = feet/3\n",
    "BritMile = yard/1760\n",
    "print(str(x) + \" meters correpond to : \" +\"\\n\"\n",
    "      + str(round(inch,2)) + \" inch(es), \" +\"\\n\"\n",
    "      + str(round(feet,2)) + \" foot (feet), \"+\"\\n\"\n",
    "      + str(round(yard,2)) + \" yard(s) \" +\"\\n\"\n",
    "      + str(round(BritMile,4)) + \" mile(s) \")\n"
   ]
  },
  {
   "cell_type": "markdown",
   "metadata": {},
   "source": [
    "## Exercise 3 "
   ]
  },
  {
   "cell_type": "code",
   "execution_count": null,
   "metadata": {},
   "outputs": [],
   "source": [
    "\n",
    "%reset -f\n",
    "\n",
    "print(\"We will compute your money growth!\")\n",
    "A=float(input(\"First, how much would you like to invest ? Ex : 1000 \"))\n",
    "p=float(input(\"Secondly, please insert the interest rate in percent : (Ex : 5)\"))\n",
    "n=float(input(\"Finally, how long do you want to invest (in years) ? ( Ex : 3)\"))\n",
    "ans=round(A*(1+(p/100))**n,2)\n",
    "print(\"You will have \"+ str(ans) + \" swiss francs in \" +str(n)+ \" years.\" )\n"
   ]
  },
  {
   "cell_type": "markdown",
   "metadata": {},
   "source": [
    "## Exercise 4"
   ]
  },
  {
   "cell_type": "code",
   "execution_count": null,
   "metadata": {},
   "outputs": [],
   "source": [
    "\n",
    "%reset -f\n",
    "\n",
    "#4a : \n",
    "\n",
    "# 1 : import pi\n",
    "# 2 : correction in the square (replace \"^\" by \" ** \")\n",
    "# 3 : assigment can not begin by a number (1_val)\n",
    "# 4 : add a  sentence if it is equal to 1\n",
    "\n",
    "from math import sin, cos, pi\n",
    "x = pi/4\n",
    "val = sin(x)**2 + cos(x)**2\n",
    "print (\"val = \"+ str(val))\n",
    "if val == float(1) :\n",
    "    print(\"Yes, it is equal to 1\")\n",
    "    \n",
    "#4b\n",
    "\n",
    "#1 : correct v0 and t (unit not written)\n",
    "#2 : following point #1 : correction of a\n",
    "#3 : add parenthesis to s\n",
    "\n",
    "v0 = 3 #m/s\n",
    "t = 1 #s\n",
    "\n",
    "a = 2*v0**2\n",
    "s = v0*t + 1/2*(a*t**2)\n",
    "print (\"s = \" + str(s))"
   ]
  },
  {
   "cell_type": "markdown",
   "metadata": {},
   "source": [
    "## Exercise 5"
   ]
  },
  {
   "cell_type": "markdown",
   "metadata": {},
   "source": [
    "The first problem that appears is that delta can take negative values. Meaning that when we try to compute the square root of a negative value we obtain an error. So the program should be constructed with a if/else strcuture allowing to stop the program whether the discriminant is negative. And if delta is not negative the program can continue normally.\n",
    "The second problem is on the last line. Print should not be written in this way when we want to output results.The correct way is:\n",
    "print(str(x1),str(x2))\n"
   ]
  },
  {
   "cell_type": "markdown",
   "metadata": {},
   "source": [
    "Here is a corrected program: "
   ]
  },
  {
   "cell_type": "code",
   "execution_count": null,
   "metadata": {},
   "outputs": [],
   "source": [
    "\n",
    "%reset -f\n",
    "\n",
    "a = -5; b = -2; c = 4\n",
    "from math import sqrt\n",
    "q = b*b - 4*a*c\n",
    "if q<0:\n",
    "    print(\"No solution\")\n",
    "else :\n",
    "    q = sqrt(q)\n",
    "    x1 = str((-b + q)/(2*a))\n",
    "    x2 = str((-b - q)/(2*a))\n",
    "    print(\"x1 = \" + x1+\", x2 = \"+x2)  "
   ]
  },
  {
   "cell_type": "markdown",
   "metadata": {},
   "source": [
    "## Exercise 6"
   ]
  },
  {
   "cell_type": "code",
   "execution_count": null,
   "metadata": {},
   "outputs": [],
   "source": [
    "\n",
    "%reset -f\n",
    "\n",
    "# Celsius to Fahrenheit\n",
    "\n",
    "def C(F) :\n",
    "    C = F\n",
    "    F = (9/5)*C +32\n",
    "    print(str(C) + \" degrees Celsius = \"+ str(F) +\" degrees Fahrenheit\")\n",
    "    C1 = (5/9) * (F-32)\n",
    "    if C1 == C:\n",
    "        print(\"Boolean test : true\")\n",
    "C(50)    "
   ]
  },
  {
   "cell_type": "markdown",
   "metadata": {},
   "source": [
    "## Exercise 7"
   ]
  },
  {
   "cell_type": "code",
   "execution_count": null,
   "metadata": {},
   "outputs": [],
   "source": [
    "\n",
    "%reset -f\n",
    "\n",
    "s = input(\"Please, give me a list of numbers and I will add them all (separated by a space) : \")\n",
    "\n",
    "list_numbers = map(float, s.split())\n",
    "sum=0\n",
    "for i in list_numbers:\n",
    "    sum=sum + i \n",
    "    \n",
    "print(\"Sum = \" + str(sum))\n"
   ]
  },
  {
   "cell_type": "markdown",
   "metadata": {},
   "source": [
    "## Exercise 8"
   ]
  },
  {
   "cell_type": "code",
   "execution_count": null,
   "metadata": {},
   "outputs": [],
   "source": [
    "\n",
    "%reset -f\n",
    "\n",
    "v1 = [0,0]; v2 = [1,0] ; v3 = [0,2];\n",
    "\n",
    "vertices = [v1, v2, v3]\n",
    "\n",
    "def area(triangle) :\n",
    "    triangle1 = 1/2*(v2[0]*v3[1] - v3[0]*v2[1] - v1[0]*v3[1] + v3[0]*v1[1] + v1[0]*v2[1] - v2[0]*v1[1])\n",
    "    print(\"Area of triangle is \" + str(triangle1))\n",
    "\n",
    "area(vertices)\n"
   ]
  },
  {
   "cell_type": "markdown",
   "metadata": {},
   "source": [
    "## Exercise 9"
   ]
  },
  {
   "cell_type": "code",
   "execution_count": null,
   "metadata": {},
   "outputs": [],
   "source": [
    "\n",
    "%reset -f\n",
    "\n",
    "from math import sqrt\n",
    "from math import pi\n",
    "from math import exp\n",
    "\n",
    "def gauss_function(x):\n",
    "    return (1/sqrt(2*pi))*exp(-0.5*((x)**2))\n",
    "\n",
    "a=[]\n",
    "y=[]\n",
    "for x in range(-5,6,1):\n",
    "    z=gauss_function(x)\n",
    "    a.append(z)\n",
    "    y.append(x)\n",
    "    print(z)\n"
   ]
  },
  {
   "cell_type": "markdown",
   "metadata": {},
   "source": [
    "We also wanted to see the result with a graphic: "
   ]
  },
  {
   "cell_type": "code",
   "execution_count": null,
   "metadata": {},
   "outputs": [],
   "source": [
    "%matplotlib inline \n",
    "%config InlineBackend.figure_format= 'svg'\n",
    "import numpy as np \n",
    "import matplotlib.pyplot as plt \n",
    "\n",
    "plt.plot(y,a)"
   ]
  },
  {
   "cell_type": "markdown",
   "metadata": {},
   "source": [
    "## Exercise 10"
   ]
  },
  {
   "cell_type": "code",
   "execution_count": null,
   "metadata": {},
   "outputs": [],
   "source": [
    "\n",
    "\"\"\"\n",
    "numbers = range(10)                            \n",
    ">>> print numbers                              \n",
    "[0, 1, 2, 3, 4, 5, 6, 7, 8, 9]\n",
    ">>> for n in numbers:                          \n",
    "i = len(numbers)/2                         \n",
    "del numbers[i]                                 \n",
    "print (’n=%d, del %d’ % (n,i), numbers)        \n",
    "n=0, del 5 [0, 1, 2, 3, 4, 6, 7, 8, 9]\n",
    "n=1, del 4 [0, 1, 2, 3, 6, 7, 8, 9]\n",
    "n=2, del 4 [0, 1, 2, 3, 7, 8, 9]\n",
    "n=3, del 3 [0, 1, 2, 7, 8, 9]\n",
    "n=8, del 3 [0, 1, 2, 8, 9]\n",
    "\"\"\"\n",
    "\n",
    "# This code : \n",
    "# - creates a list from 0 to 9\n",
    "# - prints the list\n",
    "# - takes the length of numbers(= 10) and divide by 2 => =5\n",
    "# - deletes numbers[5]\n",
    "# - prints list numbers without the [5] (= 5)\n",
    "# - takes the length of numbers without the 5 => = 9 and divide by 2 => = 4.5\n",
    "# - takes the integer = 4\n",
    "# - deletes numbers[4]\n",
    "# - prints the list of numbers without the [5] (= 5) and the [4] (=4). \n",
    "\n",
    "# It continues like this (taking each time the integer). \n",
    "\n",
    "# -> We need to be carefull with this function because of the integer.\n",
    "\n"
   ]
  },
  {
   "cell_type": "markdown",
   "metadata": {},
   "source": [
    "## Exercise 11"
   ]
  },
  {
   "cell_type": "code",
   "execution_count": null,
   "metadata": {},
   "outputs": [],
   "source": [
    "\n",
    "%reset -f\n",
    "\n",
    "import numpy as np\n",
    "\n",
    "data = np.genfromtxt('density_air.dat')\n",
    "data2= np.genfromtxt('density_water.dat')\n",
    "x=data[:,0]\n",
    "#print(str(x))\n",
    "y=data[:,1]\n",
    "#print(str(y))\n",
    "x2=data2[:,0]\n",
    "#print(str(x))\n",
    "y2=data2[:,1]\n",
    "#print(str(y))\n",
    "\n",
    "%matplotlib inline \n",
    "%config InlineBackend.figure_format= 'svg'\n",
    "\n",
    "import numpy as np\n",
    "import matplotlib.pyplot as plt \n",
    "plt.scatter(x,y, s=10)\n",
    "plt.title(\" Air density vs Temperature\")\n",
    "plt.xlabel(\"Temperature\")\n",
    "plt.ylabel(\"Air density\")\n",
    "plt.show()\n",
    "plt.scatter(x2,y2, s=10)\n",
    "plt.title(\"Water density vs Temparature\")\n",
    "plt.xlabel(\"Temperature\")\n",
    "plt.ylabel(\"Water density\")\n",
    "plt.show()\n"
   ]
  },
  {
   "cell_type": "markdown",
   "metadata": {},
   "source": [
    "## Exercise 12"
   ]
  },
  {
   "cell_type": "code",
   "execution_count": null,
   "metadata": {},
   "outputs": [],
   "source": [
    "\n",
    "%reset -f\n",
    "\n",
    "import numpy as np\n",
    "\n",
    "data = np.genfromtxt('density_air.dat')\n",
    "x1 = data[:,0]\n",
    "y1 = data[:,1]\n",
    "\n",
    "import matplotlib.pyplot as plt \n",
    "\n",
    "# Fitted polynomial of degree 1\n",
    "\n",
    "coeff = np.polyfit(x1,y1,1)\n",
    "p = np.poly1d(coeff)\n",
    "print(\"Equation  air, degree 1 : \"+ str(p)) # prints the polynomial expression\n",
    "y_fitted = p(x1)\n",
    "plt.plot(x1,y1,'bo',x1,y_fitted,'r-')\n",
    "plt.xlabel(\"Temperature\")\n",
    "plt.ylabel(\"Air density\")\n",
    "plt.title(\"Fitted polynomial of degree 1\")\n",
    "\n",
    "################################################\n",
    "\n",
    "# Fitted polynomial of degree 1 and 2\n",
    "\n",
    "data2= np.genfromtxt('density_water.dat')\n",
    "x2 = data2[:,0]\n",
    "y2 = data2[:,1]\n",
    "coeff1 = np.polyfit(x2,y2,1)\n",
    "coeff2 = np.polyfit(x2,y2,2)\n",
    "p1 = np.poly1d(coeff1)\n",
    "p2 = np.poly1d(coeff2)\n",
    "print(\"Equation for water, degree 1 : \"+ str(p1))\n",
    "print(\"Equation for water, degree 2 : \"+ str(p2))    # prints the polynomial expression\n",
    "\n",
    "y1_fitted = p1(x2)\n",
    "y2_fitted = p2(x2)\n",
    "fig = plt.figure()\n",
    "plt.xlabel(\"Temperature\")\n",
    "plt.ylabel(\"Water density\")\n",
    "plt.title(\"Fitted polynomial of degree 1 and 2\")\n",
    "ax2 = fig.add_subplot(1, 1, 1)\n",
    "ax2.plot(x2, y2, 'bo')\n",
    "ax2.plot(x2, y1_fitted, 'r',dashes=[1, 8])\n",
    "ax2.plot(x2,y2_fitted, 'y')"
   ]
  },
  {
   "cell_type": "markdown",
   "metadata": {},
   "source": [
    "## Exercise 13"
   ]
  },
  {
   "cell_type": "code",
   "execution_count": null,
   "metadata": {},
   "outputs": [],
   "source": [
    "\n",
    "%reset -f\n",
    "\n",
    "import pandas as pd\n",
    "import numpy as np\n",
    "\n",
    "filename = \"human_evolution.txt\"\n",
    "humanss = pd.read_csv(filename, sep=r\"[ ]{2,}\", \\\n",
    "                   header = None, names = [\"species\",\"era\", \"height\", \"mass\", \"brain volume\"], engine =\"python\",\\\n",
    "                   skiprows=3, skipfooter=3)\n",
    "#0: 'H. habilis',\n",
    "#1: 'H. erectus',\n",
    "#2: 'H. ergaster',\n",
    "#3: 'H. heidelbergensis',\n",
    "#4: 'H. neanderthalensis',\n",
    "#5: 'H. sapiens sapiens',\n",
    "#6: 'H. floresiensis'},\n",
    "\n",
    "humans = humanss.to_dict()\n",
    "\n",
    "print(humans[\"mass\"][4])"
   ]
  },
  {
   "cell_type": "markdown",
   "metadata": {},
   "source": [
    "## Exercise 14"
   ]
  },
  {
   "cell_type": "code",
   "execution_count": null,
   "metadata": {},
   "outputs": [],
   "source": [
    "\n",
    "%reset -f\n",
    "\n",
    "import hello\n",
    "import world\n"
   ]
  },
  {
   "cell_type": "markdown",
   "metadata": {},
   "source": [
    "## Exercise 15 "
   ]
  },
  {
   "cell_type": "code",
   "execution_count": null,
   "metadata": {},
   "outputs": [],
   "source": [
    "\n",
    "%reset -f\n",
    "\n",
    "import string\n",
    "\n",
    "A = string.ascii_uppercase\n",
    "c = \"\"\n",
    "a = A.lower()\n",
    "d = A+a\n",
    "\n",
    "print(d)\n",
    "\n",
    "for i in range(0,len(A)):\n",
    "    c += A[i]+a[i]\n",
    "print(c)\n",
    "\n",
    "for i in range(0,len(d),10):\n",
    "    t = \"|\"+ c[i:i+10] +\"|\"\n",
    "    t = \" \".join(t)\n",
    "    print(t)\n",
    "    \n",
    "d = list(a)\n",
    "v=[]\n",
    "for char in d :\n",
    "    v += ([char])\n",
    "\n",
    "v[0] = \"a : \",\"apple\"\n",
    "v[6] = \"g :\", \"grape\"\n",
    "v[11] = \"l :\", \"lemon\"\n",
    "v[14] = \"o :\", \"olive\"\n",
    "\n",
    "for char in v:\n",
    "    print([char[:]])\n",
    "\n",
    "print(\"apple begins with a, grape begins with g, lemon begins with l, olive begins with o \")"
   ]
  },
  {
   "cell_type": "code",
   "execution_count": null,
   "metadata": {},
   "outputs": [],
   "source": []
  }
 ],
 "metadata": {
  "kernelspec": {
   "display_name": "Python 3",
   "language": "python",
   "name": "python3"
  },
  "language_info": {
   "codemirror_mode": {
    "name": "ipython",
    "version": 3
   },
   "file_extension": ".py",
   "mimetype": "text/x-python",
   "name": "python",
   "nbconvert_exporter": "python",
   "pygments_lexer": "ipython3",
   "version": "3.6.8"
  }
 },
 "nbformat": 4,
 "nbformat_minor": 2
}
